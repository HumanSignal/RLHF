{
 "cells": [
  {
   "cell_type": "markdown",
   "id": "0c0b6c77",
   "metadata": {},
   "source": [
    "# Finetune LLM with trlX\n",
    "\n",
    "The primary objective is to showcase a technique for reducing bias when fine-tuning Language Models (LLMs) using feedback from humans. We achieve this goal using a minimal set of tools, including Huggingface, GPT2, Label Studio, and trlX. Our aim is to provide the most efficient and straightforward method for creating a pipeline that moves from raw data to a real-world RLHF system."
   ]
  },
  {
   "cell_type": "markdown",
   "id": "aba4a719",
   "metadata": {},
   "source": [
    "## Dataset collection\n",
    "- Collect dataset of human preferences for GPT prompt completions using Label Studio (Pairwise preferences)\n",
    "\n",
    "- Convert annotations into Elo scores (utils/elo.py)\n",
    "\n",
    "- Use Elo scores as reward function to finetune\n",
    "\n",
    "or\n",
    "\n",
    "- use conversion format from \n",
    "   - https://huggingface.co/datasets/Anthropic/hh-rlhf\n",
    "   - https://huggingface.co/datasets/CarperAI/openai_summarize_comparisons"
   ]
  },
  {
   "cell_type": "markdown",
   "id": "598b18f9",
   "metadata": {},
   "source": [
    "## Model finetuning\n",
    "Here should be a runnable piece of code that utilize collected samples to run RL with trlX library:"
   ]
  },
  {
   "cell_type": "code",
   "execution_count": null,
   "id": "e67332fb",
   "metadata": {},
   "outputs": [],
   "source": [
    "trlx.train(\n",
    "    \"gpt2\",\n",
    "    samples=prompts,\n",
    "    rewards=ratings\n",
    ")"
   ]
  },
  {
   "cell_type": "markdown",
   "id": "dbc427b4",
   "metadata": {},
   "source": [
    "## References\n",
    "\n",
    "- [General overview about RLHF](https://huggingface.co/blog/rlhf)\n",
    "- [Another end-to-end example with trlX](https://wandb.ai/carperai/summarize_RLHF/reports/Implementing-RLHF-Learning-to-Summarize-with-trlX--VmlldzozMzAwODM2)\n",
    "- [Similar human-in-the-loop annotation framework](https://github.com/CarperAI/cheese/tree/main/examples)\n",
    "- [Antropic harmless RLHF paper](https://arxiv.org/pdf/2204.05862.pdf) and [blog about CAI general principles](https://lifearchitect.ai/anthropic/)"
   ]
  }
 ],
 "metadata": {
  "kernelspec": {
   "display_name": "labelops",
   "language": "python",
   "name": "labelops"
  },
  "language_info": {
   "codemirror_mode": {
    "name": "ipython",
    "version": 3
   },
   "file_extension": ".py",
   "mimetype": "text/x-python",
   "name": "python",
   "nbconvert_exporter": "python",
   "pygments_lexer": "ipython3",
   "version": "3.9.16"
  }
 },
 "nbformat": 4,
 "nbformat_minor": 5
}
